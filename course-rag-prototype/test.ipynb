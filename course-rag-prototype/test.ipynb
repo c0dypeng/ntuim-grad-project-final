{
 "cells": [
  {
   "cell_type": "code",
   "execution_count": 1,
   "metadata": {},
   "outputs": [
    {
     "name": "stderr",
     "output_type": "stream",
     "text": [
      "c:\\Users\\anson\\anaconda3\\envs\\grad_rag\\lib\\site-packages\\pinecone\\data\\index.py:1: TqdmWarning: IProgress not found. Please update jupyter and ipywidgets. See https://ipywidgets.readthedocs.io/en/stable/user_install.html\n",
      "  from tqdm.autonotebook import tqdm\n"
     ]
    }
   ],
   "source": [
    "# dependencies for streamlit and langchain\n",
    "import streamlit as st\n",
    "\n",
    "# dependencies for system\n",
    "import asyncio\n",
    "\n",
    "from taide_chat import taide_llm\n",
    "\n",
    "from langchain_pinecone import PineconeVectorStore, PineconeEmbeddings\n",
    "from langchain.chains.question_answering import load_qa_chain\n",
    "from langchain_community.document_transformers import (\n",
    "    LongContextReorder,\n",
    ")\n",
    "from langchain.schema import Document\n",
    "\n",
    "from langchain.prompts import PromptTemplate\n",
    "from dotenv import load_dotenv\n",
    "\n",
    "load_dotenv()\n",
    "\n",
    "llm = taide_llm # change this use different LLM provider"
   ]
  },
  {
   "cell_type": "code",
   "execution_count": 2,
   "metadata": {},
   "outputs": [],
   "source": [
    "embeddings = PineconeEmbeddings(model=\"multilingual-e5-large\")\n",
    "index_name = \"ntuim-course\"\n",
    "vectorstore = PineconeVectorStore(\n",
    "index_name=index_name, embedding=embeddings)"
   ]
  },
  {
   "cell_type": "code",
   "execution_count": null,
   "metadata": {},
   "outputs": [],
   "source": [
    "k = 10000\n",
    "query = \"hi\"\n",
    "\n",
    "vec = embeddings.embed_query(query)\n",
    "docs = vectorstore.similarity_search_by_vector_with_score(embedding=vec, k=k)\n",
    "\n",
    "score = []\n",
    "for (doc, s) in docs:\n",
    "    score.append(s)"
   ]
  },
  {
   "cell_type": "code",
   "execution_count": 20,
   "metadata": {},
   "outputs": [
    {
     "data": {
      "image/png": "[encoded data removed]",
      "text/plain": [
       "<Figure size 640x480 with 1 Axes>"
      ]
     },
     "metadata": {},
     "output_type": "display_data"
    }
   ],
   "source": [
    "%matplotlib inline\n",
    "import matplotlib.pyplot as plt\n",
    "\n",
    "\n",
    "plt.hist(score, bins=50, color='c')\n",
    "plt.xlabel('Score')\n",
    "plt.ylabel('Frequency')\n",
    "plt.title('Histogram of Document Scores')\n",
    "plt.show()"
   ]
  },
  {
   "cell_type": "code",
   "execution_count": 24,
   "metadata": {},
   "outputs": [
    {
     "name": "stdout",
     "output_type": "stream",
     "text": [
      "----------0----------\n",
      "Score: 0.815446138\n",
      "Content: passage: 專題討論 Refer to Class 01 Refer to Class 01 Refer to Class 01\n",
      "\n",
      "\n",
      "Score: passage: 智慧醫療程式設計 *This course will be taught in English*\n",
      "\n",
      "Artificial Intelligence has been taking an increasingly important role in medical applications. This course is for medical students to learn basic Python programming, data processing and analysis, machine learning algorithms and their applications on medical problems such as medical image analysis. Artificial Intelligence has been taking an increasingly important role in medical applications. This course is for medical students to lear\n",
      "----------1----------\n",
      "Score: 0.814076364\n",
      "Content: passage: \n",
      "\n",
      "\n",
      "Score: passage: 大師給問-未來職涯巡航 為培養學生對職涯規劃的相關知能、拓展生涯探索之視野，國立臺灣大學教務處開設「大師給問-未來職涯巡航」課程，讓修課學生透過人文/社創、生物科技、機械科技、智慧/生活科技四大領域企業業師之系列講座，初步認識目前產業發展現況及職場人才需求之趨勢，同時亦可藉由業師個人職涯發展及生命經驗的分享，從中提取寶貴經驗，進而引起學生規劃未來職涯藍圖的學習契機，主動精進自我與產業鏈結的專業能力。 1.\t學生透過企業創辦人或高階經理人之講座課程，認識目前產業發展現況及職場人才需求之趨勢，開拓未來職涯想像。\n",
      "2.\t學生藉由業師個人職涯發展及生命經驗的分享，從中提取寶貴經驗，主動建構職涯藍圖並自我精進相關專業能力、深化學習。 1.\t本課程相關公告及作業繳交皆以NTU COOL為學習平台。\n",
      "2.\t討論課以分組討論方式進行。\n",
      "3.\t每堂課程將指派作業，須於課後指定期限內上傳至NTU COOL繳交。\n",
      "4.\t期末分組報告以口頭報告進行。\n",
      "\n",
      "*出席要求：上課前十分鐘開放掃描課堂現場的QR code簽到，上課後十分鐘未簽到該堂課即算遲到。\n",
      "*全學期課程遲到、請假缺席超\n",
      "----------2----------\n",
      "Score: 0.814076364\n",
      "Content: passage: \n",
      "\n",
      "\n",
      "Score: passage: 學習評量 待補 待補 待補\n",
      "----------3----------\n",
      "Score: 0.814076364\n",
      "Content: passage: \n",
      "\n",
      "\n",
      "Score: passage: 英文(附二小時英聽)一 本課程與傳統的英語課程不同，提供教師設計的人工智慧電腦輔助英語網路練習系統，上課以網路單字，句型寫作，聽力，閱讀,  翻譯練習及口說練習為主，透過網路練習進行英語聽說讀寫翻譯（口譯）能力的整合的訓練。教學內容取材自Youtube影片，報章雜誌或部落格文章。網路練習系統使用人工智慧技術。本課程難度接近托福測驗，涵蓋不同領域的學術英文。所有練習過程都收錄在電腦學習歷程檔案當中。大約一半的練習在課堂中完成，另一半則在課外完成。第一節課著重閱讀及網路練習，第二節課由助教帶領口說及聽力練習，第三節課則是口說報告。\n",
      "\n",
      "課程概述\n",
      "1. 閱讀策略\n",
      "2. 閱讀速度\n",
      "3. 聽力策略\n",
      "4. 單字策略\n",
      "5. 翻譯及寫作技巧\n",
      "6. 口語訓練 1.\t精讀課文內容及所有練習。掌握課本中的文法，單字及閱讀策略。\n",
      "2.\t掌握學術字彙（University Word List）http://jbauman.com/UWL.html及衍生字。\n",
      "3.\t學會使用搭配語辭典修改句子。\n",
      "4.\t學會使用字典檢查句型是否正確。\n",
      "5.\t學會檢查作文是否通順連貫。\n",
      "6.\t\n",
      "----------4----------\n",
      "Score: 0.814076364\n",
      "Content: passage: \n",
      "\n",
      "\n",
      "Score: passage: 演算法 This course provides an introduction to the design and analysis of computer algorithms. We will cover topics including concepts of algorithm complexity, and various algorithms such as divide-and-conquer, dynamic programming, sorting, and greedy algorithms.\n",
      "For those who would like to add this course (加簽), please fill in this Google form and follow the instruction: https://forms.gle/QnPYKGPFbFAsfQZg7 \n",
      "For any question, please contact the head TA Hsiang-Shian Fan <d11921c02@ntu.edu.\n"
     ]
    }
   ],
   "source": [
    "k = 5\n",
    "query = \"機器學習\"\n",
    "\n",
    "docs_s = vectorstore.similarity_search_by_vector_with_score(embedding=vec, k=k)\n",
    "docs_m = vectorstore.max_marginal_relevance_search(query, k=k, fetch_k=k*5)\n",
    "\n",
    "for i in range(k):\n",
    "    print(f\"{'-' * 10}{i}{'-' * 10}\")\n",
    "    print(f\"Score: {docs_s[i][1]}\")\n",
    "    print(f\"Content: {docs_s[i][0].page_content}\")\n",
    "    print(\"\\n\")\n",
    "    print(f\"Score: {docs_m[i].page_content}\")"
   ]
  }
 ],
 "metadata": {
  "kernelspec": {
   "display_name": "grad_rag",
   "language": "python",
   "name": "python3"
  },
  "language_info": {
   "codemirror_mode": {
    "name": "ipython",
    "version": 3
   },
   "file_extension": ".py",
   "mimetype": "text/x-python",
   "name": "python",
   "nbconvert_exporter": "python",
   "pygments_lexer": "ipython3",
   "version": "3.10.0"
  }
 },
 "nbformat": 4,
 "nbformat_minor": 2
}

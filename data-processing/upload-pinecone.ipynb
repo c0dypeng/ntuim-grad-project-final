{
 "cells": [
  {
   "cell_type": "code",
   "execution_count": 19,
   "metadata": {},
   "outputs": [],
   "source": [
    "import pandas as pd\n",
    "import numpy as np\n",
    "\n",
    "# read in the data course-v1.csv\n",
    "df = pd.read_csv('course-v1.csv')"
   ]
  },
  {
   "cell_type": "code",
   "execution_count": 20,
   "metadata": {},
   "outputs": [
    {
     "name": "stdout",
     "output_type": "stream",
     "text": [
      "8107\n"
     ]
    }
   ],
   "source": [
    "print(df['所屬學院'].size)"
   ]
  },
  {
   "cell_type": "code",
   "execution_count": 3,
   "metadata": {},
   "outputs": [],
   "source": [
    "# create a new column called embedding text, which is a cancat of # \"課程名稱\" \"課程概述\" \"課程目標\" \"課程要求\"\n",
    "df['embedding_text'] = df['課程名稱'] + ' ' + df['課程概述'] + ' ' + df['課程目標'] + ' ' + df['課程要求']"
   ]
  },
  {
   "cell_type": "code",
   "execution_count": 4,
   "metadata": {},
   "outputs": [],
   "source": [
    "# let all Nan value in all column to be empty string\n",
    "df = df.fillna('')\n"
   ]
  },
  {
   "cell_type": "code",
   "execution_count": 5,
   "metadata": {},
   "outputs": [],
   "source": [
    "# add \"passage: \" to the start of each row in the embedding_text column\n",
    "df['embedding_text'] = 'passage: ' + df['embedding_text']\n",
    "\n",
    "# let the maximum length of the embedding_text column be 500\n",
    "# df['embedding_text'] = df['embedding_text'].apply(lambda x: str(x)[:8000] if isinstance(x, str) else x)\n",
    "df['embedding_text'] = df['embedding_text'].apply(lambda x: str(x)[:800] if isinstance(x, str) else x)"
   ]
  },
  {
   "cell_type": "code",
   "execution_count": 6,
   "metadata": {},
   "outputs": [],
   "source": [
    "# get rid of  df['課程概述'] + ' ' + df['課程目標'] + ' ' + df['課程要求']\n",
    "df = df.drop(columns=['課程概述', '課程目標', '課程要求'])"
   ]
  },
  {
   "cell_type": "code",
   "execution_count": 7,
   "metadata": {},
   "outputs": [],
   "source": [
    "# let first 50 courses be a new df, df1\n",
    "# df1 = df.head(50)\n",
    "df1 = df\n"
   ]
  },
  {
   "cell_type": "code",
   "execution_count": 8,
   "metadata": {},
   "outputs": [],
   "source": [
    "# load environment variables\n",
    "from dotenv import load_dotenv\n",
    "load_dotenv()\n",
    "from langchain.document_loaders import TextLoader\n",
    "from langchain.text_splitter import CharacterTextSplitter\n",
    "\n",
    "from langchain.vectorstores import Pinecone\n",
    "from langchain.embeddings.base import Embeddings\n",
    "from langchain.schema import Document\n"
   ]
  },
  {
   "cell_type": "code",
   "execution_count": 9,
   "metadata": {},
   "outputs": [],
   "source": [
    "# !pip install -qU langchain-openai\n",
    "from langchain_pinecone import PineconeVectorStore, PineconeEmbeddings\n",
    "from langchain_openai import OpenAIEmbeddings\n",
    "\n",
    "embeddings = OpenAIEmbeddings(\n",
    "    model=\"text-embedding-3-large\",\n",
    ")\n",
    "# embeddings = PineconeEmbeddings(model=\"multilingual-e5-large\")\n",
    "index_name = \"ntuim-course\"\n"
   ]
  },
  {
   "cell_type": "code",
   "execution_count": 10,
   "metadata": {},
   "outputs": [],
   "source": [
    "# upload the data to Pinecone, let the matadata be the rows of the df1, and use embedding_text to calculate the embedding\n",
    "\n",
    "documents = []\n",
    "# for _, row in df1[:100].iterrows():\n",
    "for _, row in df1.iterrows():\n",
    "    # Create the document with text for embeddings and rest as metadata\n",
    "    metadata = row.drop('embedding_text').to_dict()\n",
    "    doc = Document(page_content=row['embedding_text'], metadata=row.to_dict())\n",
    "    documents.append(doc)\n",
    "\n",
    "# Generate embeddings for the \"embedding_text\" using the embeddings model\n",
    "# embeddings = Embeddings()  # Replace with your actual embedding model (BaichuanTextEmbeddings)"
   ]
  },
  {
   "cell_type": "code",
   "execution_count": 11,
   "metadata": {},
   "outputs": [],
   "source": [
    "docsearch = PineconeVectorStore.from_documents(documents, embedding=embeddings, index_name=index_name)\n",
    "# upload the embeddings to the Pinecone index"
   ]
  }
 ],
 "metadata": {
  "kernelspec": {
   "display_name": "base",
   "language": "python",
   "name": "python3"
  },
  "language_info": {
   "codemirror_mode": {
    "name": "ipython",
    "version": 3
   },
   "file_extension": ".py",
   "mimetype": "text/x-python",
   "name": "python",
   "nbconvert_exporter": "python",
   "pygments_lexer": "ipython3",
   "version": "3.12.4"
  }
 },
 "nbformat": 4,
 "nbformat_minor": 2
}

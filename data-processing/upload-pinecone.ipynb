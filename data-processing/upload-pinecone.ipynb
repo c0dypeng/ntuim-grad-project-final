{
 "cells": [
  {
   "cell_type": "code",
   "execution_count": 47,
   "metadata": {},
   "outputs": [],
   "source": [
    "import pandas as pd\n",
    "import numpy as np\n",
    "\n",
    "# read in the data course-v1.csv\n",
    "df = pd.read_csv('course-v1.csv')"
   ]
  },
  {
   "cell_type": "code",
   "execution_count": 48,
   "metadata": {},
   "outputs": [
    {
     "name": "stdout",
     "output_type": "stream",
     "text": [
      "              課程名稱  課程流水號   所屬系所 授課教師  上課星期     上課節次  \\\n",
      "0  大學國文：文學鑑賞與寫作（一）   1001  中國文學系  汪詩珮   5.0  {7,8,9}   \n",
      "1  大學國文：文學鑑賞與寫作（一）   1002  中國文學系  尹子玉   5.0  {7,8,9}   \n",
      "2  大學國文：文學鑑賞與寫作（一）   1003  中國文學系  張斯翔   5.0  {7,8,9}   \n",
      "3  大學國文：文學鑑賞與寫作（一）   1004  中國文學系  康韻梅   5.0  {7,8,9}   \n",
      "4  大學國文：文學鑑賞與寫作（一）   1005  中國文學系  吳旻旻   5.0  {7,8,9}   \n",
      "\n",
      "                                                課程概述  \\\n",
      "0  本課程於大學國文課程模組中，兼有「自我與他者」、「編劇與展演」 兩項。\\r\\n本課程希冀透過...   \n",
      "1  本課程涵納大學國文「自我與他者」、「人類與自然」、「詮釋與記憶」等主題，以唐宋詞為閱讀範圍。...   \n",
      "2  【大學國文主題設計：自我與他者、詮釋與記憶、移動與感官】\\r\\n\\r\\n1、 課程內容：本課...   \n",
      "3  一、主題設計：自我與他者、個人與社會、奇幻與創造、詮釋與記憶\\r\\n二、課程鑑賞的文學作品主...   \n",
      "4  本課程主題為「現代小說選讀」，將選讀魯迅、白先勇、奚淞、董啟章、賴香吟、駱以軍、曹麗娟、山本...   \n",
      "\n",
      "                                                課程目標  \\\n",
      "0  1.通過各種代表性文本的精讀、解析及詮釋，加強學生的人文思維與涵養。 \\r\\n2.訓練學生分...   \n",
      "1  一、通過各種代表性文本的精讀、解析及詮釋，加強學生的人文思維與涵養。\\r\\n二、訓練學生分析...   \n",
      "2  臺大國文課的共同目標為：（本課程將視情況調整）\\r\\n閱讀方面──\\r\\n1. 通過各種代表...   \n",
      "3  一、\\t通過經典、代表性文本的精讀、解析及詮釋，使學生熟悉人文思維，了解人文精神與傳統在現代...   \n",
      "4  1.藉由實作與討論，使學生能逐步掌握議論、說明、描寫、敘事或抒情等各種類型的寫作要點。\\r\\...   \n",
      "\n",
      "                                                課程要求  \n",
      "0          1. 課前預習文本\\r\\n2. 課堂互動與小組討論\\r\\n3. 分組報告與課堂書寫  \n",
      "1  一、對充實詞學知識、學習詞作解讀懷抱熱情，願意深入詞境領略文字之精妙與文學之深美，共同探索心...  \n",
      "2  1、 本課程將自編講義上傳至ntu cool，學生需自行下載、列印。 \\r\\n 2、 課程內...  \n",
      "3  一、課前預讀文本、積極參與課堂討論、按時繳交作業。\\r\\n\\r\\n二、作業：\\r\\n\\r\\n...  \n",
      "4  (一) 小說因篇幅緣故無法於課堂上逐句逐段講解，同學務必於每週上課前先行閱讀。\\r\\n(二)...  \n"
     ]
    }
   ],
   "source": [
    "print(df.head())"
   ]
  },
  {
   "cell_type": "code",
   "execution_count": 49,
   "metadata": {},
   "outputs": [],
   "source": [
    "# create a new column called embedding text, which is a cancat of # \"課程名稱\" \"課程概述\" \"課程目標\" \"課程要求\"\n",
    "df['embedding_text'] = df['課程名稱'] + ' ' + df['課程概述'] + ' ' + df['課程目標'] + ' ' + df['課程要求']"
   ]
  },
  {
   "cell_type": "code",
   "execution_count": 50,
   "metadata": {},
   "outputs": [],
   "source": [
    "# let all Nan value in all column to be empty string\n",
    "df = df.fillna('')\n"
   ]
  },
  {
   "cell_type": "code",
   "execution_count": 51,
   "metadata": {},
   "outputs": [],
   "source": [
    "# add \"passage: \" to the start of each row in the embedding_text column\n",
    "df['embedding_text'] = 'passage: ' + df['embedding_text']\n",
    "\n",
    "# let the maximum length of the embedding_text column be 500\n",
    "df['embedding_text'] = df['embedding_text'].apply(lambda x: str(x)[:8000] if isinstance(x, str) else x)"
   ]
  },
  {
   "cell_type": "code",
   "execution_count": 52,
   "metadata": {},
   "outputs": [],
   "source": [
    "# get rid of  df['課程概述'] + ' ' + df['課程目標'] + ' ' + df['課程要求']\n",
    "df = df.drop(columns=['課程概述', '課程目標', '課程要求'])"
   ]
  },
  {
   "cell_type": "code",
   "execution_count": 53,
   "metadata": {},
   "outputs": [],
   "source": [
    "# let first 50 courses be a new df, df1\n",
    "# df1 = df.head(50)\n",
    "df1 = df\n"
   ]
  },
  {
   "cell_type": "code",
   "execution_count": 54,
   "metadata": {},
   "outputs": [],
   "source": [
    "# load environment variables\n",
    "from dotenv import load_dotenv\n",
    "load_dotenv()\n",
    "from langchain.document_loaders import TextLoader\n",
    "from langchain.text_splitter import CharacterTextSplitter\n",
    "\n",
    "from langchain.vectorstores import Pinecone\n",
    "from langchain.embeddings.base import Embeddings\n",
    "from langchain.schema import Document\n"
   ]
  },
  {
   "cell_type": "code",
   "execution_count": 55,
   "metadata": {},
   "outputs": [],
   "source": [
    "# !pip install -qU langchain-openai\n",
    "from langchain_pinecone import PineconeVectorStore, PineconeEmbeddings\n",
    "from langchain_openai import OpenAIEmbeddings\n",
    "\n",
    "embeddings = OpenAIEmbeddings(\n",
    "    model=\"text-embedding-3-large\",\n",
    "    # With the `text-embedding-3` class\n",
    "    # of models, you can specify the size\n",
    "    # of the embeddings you want returned.\n",
    "    # dimensions=1024\n",
    ")\n",
    "# embeddings = PineconeEmbeddings(model=\"multilingual-e5-large\")\n",
    "index_name = \"ntuim-course\"\n"
   ]
  },
  {
   "cell_type": "code",
   "execution_count": null,
   "metadata": {},
   "outputs": [],
   "source": [
    "# upload the data to Pinecone, let the matadata be the rows of the df1, and use embedding_text to calculate the embedding\n",
    "\n",
    "documents = []\n",
    "# for _, row in df1[:100].iterrows():\n",
    "for _, row in df1.iterrows():\n",
    "    # Create the document with text for embeddings and rest as metadata\n",
    "    metadata = row.drop('embedding_text').to_dict()\n",
    "    doc = Document(page_content=row['embedding_text'], metadata=row.to_dict())\n",
    "    documents.append(doc)\n",
    "\n",
    "# Generate embeddings for the \"embedding_text\" using the embeddings model\n",
    "# embeddings = Embeddings()  # Replace with your actual embedding model (BaichuanTextEmbeddings)"
   ]
  },
  {
   "cell_type": "code",
   "execution_count": 57,
   "metadata": {},
   "outputs": [],
   "source": [
    "docsearch = PineconeVectorStore.from_documents(documents, embedding=embeddings, index_name=index_name)\n",
    "# upload the embeddings to the Pinecone index"
   ]
  },
  {
   "cell_type": "code",
   "execution_count": null,
   "metadata": {},
   "outputs": [],
   "source": []
  }
 ],
 "metadata": {
  "kernelspec": {
   "display_name": "base",
   "language": "python",
   "name": "python3"
  },
  "language_info": {
   "codemirror_mode": {
    "name": "ipython",
    "version": 3
   },
   "file_extension": ".py",
   "mimetype": "text/x-python",
   "name": "python",
   "nbconvert_exporter": "python",
   "pygments_lexer": "ipython3",
   "version": "3.12.4"
  }
 },
 "nbformat": 4,
 "nbformat_minor": 2
}

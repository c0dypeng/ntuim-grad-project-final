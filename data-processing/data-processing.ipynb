{
 "cells": [
  {
   "cell_type": "code",
   "execution_count": 25,
   "metadata": {},
   "outputs": [],
   "source": [
    "# !pip install pandas\n",
    "\n",
    "\n",
    "import pandas as pd\n",
    "import numpy as np\n",
    "import json\n",
    "\n",
    "# load environment variables\n",
    "# !pip install python-dotenv\n",
    "# !pip install -U langchain-community\n",
    "from dotenv import load_dotenv\n",
    "load_dotenv()\n",
    "from langchain.document_loaders import TextLoader\n",
    "from langchain.text_splitter import CharacterTextSplitter\n",
    "\n",
    "# !pip install langchain_pinecone\n",
    "from langchain_pinecone import PineconeVectorStore, PineconeEmbeddings\n",
    "\n",
    "from langchain.document_loaders import TextLoader"
   ]
  },
  {
   "cell_type": "code",
   "execution_count": 26,
   "id": "4f8fdeaa",
   "metadata": {},
   "outputs": [],
   "source": [
    "# read the data \"01 課程大綱_202408201909.json\" into panda file\n",
    "\n",
    "with open('課程大綱.json') as f:\n",
    "    data = json.load(f)\n",
    "\n",
    "df = pd.DataFrame(data)\n",
    "\n",
    "# course = df['course']\n",
    "course = list(data.values())[0]\n",
    "\n",
    "course = pd.json_normalize(course)\n"
   ]
  },
  {
   "cell_type": "code",
   "execution_count": 27,
   "id": "84205c07",
   "metadata": {},
   "outputs": [
    {
     "name": "stdout",
     "output_type": "stream",
     "text": [
      "Index(['開課學期', '開課學校', '課程狀態', '課程流水號', '課號', '課程識別碼', '班次', '課程名稱', '學分',\n",
      "       '為必選修', '為預分配', '通識領域', '授課對象系所代碼', '授課對象系所名稱', '授課教師', '職稱', '所屬學院',\n",
      "       '所屬系所', 'E-mail', '辦公室', '聯絡電話', '個人資訊', '個人網站', '密集課程週次', '上課星期',\n",
      "       '上課節次', '上課地點', '加簽方式', '修課總人數', '本校人數', '外校人數', '外系人數', '領域專長代碼',\n",
      "       '領域專長名稱', '為英語授課', 'NTU COOL', '核心能力與課程規劃關聯圖', '課程與基本素養關聯圖', '下載課程大綱檔案',\n",
      "       '課程備註', '課程概述', '課程目標', '課程要求', '預計課後學習時數', 'OfficeHour需預約',\n",
      "       'OfficeHour備註', 'OfficeHour星期', 'OfficeHour開始時間', 'OfficeHour結束時間',\n",
      "       '指定閱讀', '參考書目'],\n",
      "      dtype='object')\n"
     ]
    }
   ],
   "source": [
    "print(course.columns)"
   ]
  },
  {
   "cell_type": "code",
   "execution_count": 28,
   "id": "7e39b1f1",
   "metadata": {},
   "outputs": [
    {
     "name": "stdout",
     "output_type": "stream",
     "text": [
      "(83547, 51)\n"
     ]
    }
   ],
   "source": [
    "# print the szize of the data\n",
    "print(course.shape)"
   ]
  },
  {
   "cell_type": "code",
   "execution_count": 29,
   "id": "08ed83ab",
   "metadata": {},
   "outputs": [],
   "source": [
    "#  filter 開課學期 = 113-1\n",
    "course = course[course['開課學期'] == '113-1']\n"
   ]
  },
  {
   "cell_type": "code",
   "execution_count": 30,
   "id": "5e8958d5",
   "metadata": {},
   "outputs": [
    {
     "name": "stdout",
     "output_type": "stream",
     "text": [
      "(17343, 51)\n"
     ]
    }
   ],
   "source": [
    "print(course.shape)"
   ]
  },
  {
   "cell_type": "code",
   "execution_count": 31,
   "id": "a67da680",
   "metadata": {},
   "outputs": [],
   "source": [
    "# 只保留\n",
    "# \"課程名稱\"\n",
    "# \"課程流水號\"\n",
    "# \"所屬系所\"\n",
    "# \"授課教師\"\n",
    "# \"上課星期\"\n",
    "# \"上課節次\"\n",
    "# \"課程概述\"\n",
    "# \"課程目標\"\n",
    "# \"課程要求\"\n",
    "# 欄位\n",
    "\n",
    "course = course[[\"課程名稱\", \"課程流水號\", \"所屬系所\", \"授課教師\", \"上課星期\", \"上課節次\", \"課程概述\", \"課程目標\", \"課程要求\"]]"
   ]
  },
  {
   "cell_type": "code",
   "execution_count": 32,
   "id": "d8b32f02",
   "metadata": {},
   "outputs": [
    {
     "name": "stdout",
     "output_type": "stream",
     "text": [
      "(17343, 9)\n"
     ]
    }
   ],
   "source": [
    "print(course.shape)"
   ]
  },
  {
   "cell_type": "code",
   "execution_count": 33,
   "id": "54305737",
   "metadata": {},
   "outputs": [],
   "source": [
    "# if \"課程名稱\" contain \"專題討論\"， drop the row\n",
    "course = course[~course[\"課程名稱\"].str.contains(\"專題討論\")]"
   ]
  },
  {
   "cell_type": "code",
   "execution_count": 34,
   "id": "f5834a34",
   "metadata": {},
   "outputs": [
    {
     "name": "stdout",
     "output_type": "stream",
     "text": [
      "(16627, 9)\n"
     ]
    }
   ],
   "source": [
    "print(course.shape)"
   ]
  },
  {
   "cell_type": "code",
   "execution_count": 35,
   "id": "44a91601",
   "metadata": {},
   "outputs": [],
   "source": [
    "# if \"課程概述\" or \"課程目標\" or \"課程要求\" is empty, remove the row\n",
    "course = course.dropna(subset=[\"課程概述\", \"課程目標\", \"課程要求\"])"
   ]
  },
  {
   "cell_type": "code",
   "execution_count": 36,
   "id": "cd1516b8",
   "metadata": {},
   "outputs": [
    {
     "name": "stdout",
     "output_type": "stream",
     "text": [
      "(8859, 9)\n"
     ]
    }
   ],
   "source": [
    "# see how many rows left\n",
    "print(course.shape)"
   ]
  },
  {
   "cell_type": "code",
   "execution_count": 37,
   "id": "5801a141",
   "metadata": {},
   "outputs": [],
   "source": [
    "# save the data to a csv file\n",
    "course.to_csv('course-v1.csv', index=False)"
   ]
  },
  {
   "cell_type": "markdown",
   "id": "b9a606b4",
   "metadata": {},
   "source": [
    "---\n",
    "\n",
    "##### how to embedding data\n",
    "- only 課程概述 + 課程名稱?\n",
    "- 還是要加課程上課日期, 課程目標, etc\n",
    "\n",
    "\n",
    "##### multi label firtering\n",
    "- 我要找文字探勘和 sentence embedding 相關的課程， \"而且想要禮拜三早上或是禮拜五的\"\n",
    "- 前面可以用 RAG + LLM 處理，後面那部分如何？\n",
    "\n",
    "##### \n",
    "'課程名稱', '課程概述', '課程目標', '課程要求' 加起來超過 512 個 token 怎麼辦？\n",
    "\n",
    "- 叫 LLM 抓重點？\n",
    "- ~~休學~~\n",
    "- 把「該門課程依照字數限制拆成兩個 ( or 多個 ) item」，如有 1700 token 的話，拆成四個 item ？"
   ]
  }
 ],
 "metadata": {
  "kernelspec": {
   "display_name": "base",
   "language": "python",
   "name": "python3"
  },
  "language_info": {
   "codemirror_mode": {
    "name": "ipython",
    "version": 3
   },
   "file_extension": ".py",
   "mimetype": "text/x-python",
   "name": "python",
   "nbconvert_exporter": "python",
   "pygments_lexer": "ipython3",
   "version": "3.12.4"
  }
 },
 "nbformat": 4,
 "nbformat_minor": 5
}

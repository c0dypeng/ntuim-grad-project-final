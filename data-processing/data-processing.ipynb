{
 "cells": [
  {
   "cell_type": "code",
   "execution_count": 173,
   "metadata": {},
   "outputs": [],
   "source": [
    "# !pip install pandas\n",
    "\n",
    "\n",
    "import pandas as pd\n",
    "import numpy as np\n",
    "import json\n",
    "\n",
    "# load environment variables\n",
    "# !pip install python-dotenv\n",
    "# !pip install -U langchain-community\n",
    "from dotenv import load_dotenv\n",
    "load_dotenv()\n",
    "from langchain.document_loaders import TextLoader\n",
    "from langchain.text_splitter import CharacterTextSplitter\n",
    "\n",
    "# !pip install langchain_pinecone\n",
    "from langchain_pinecone import PineconeVectorStore, PineconeEmbeddings\n",
    "\n",
    "from langchain.document_loaders import TextLoader"
   ]
  },
  {
   "cell_type": "code",
   "execution_count": 174,
   "id": "4f8fdeaa",
   "metadata": {},
   "outputs": [],
   "source": [
    "# read the data \"01 課程大綱_202408201909.json\" into panda file\n",
    "\n",
    "with open('課程大綱.json') as f:\n",
    "    data = json.load(f)\n",
    "\n",
    "df = pd.DataFrame(data)\n",
    "\n",
    "# course = df['course']\n",
    "course = list(data.values())[0]\n",
    "\n",
    "course = pd.json_normalize(course)\n"
   ]
  },
  {
   "cell_type": "code",
   "execution_count": 175,
   "id": "84205c07",
   "metadata": {},
   "outputs": [
    {
     "name": "stdout",
     "output_type": "stream",
     "text": [
      "Index(['開課學期', '開課學校', '課程狀態', '課程流水號', '課號', '課程識別碼', '班次', '課程名稱', '學分',\n",
      "       '為必選修', '為預分配', '通識領域', '授課對象系所代碼', '授課對象系所名稱', '授課教師', '職稱', '所屬學院',\n",
      "       '所屬系所', 'E-mail', '辦公室', '聯絡電話', '個人資訊', '個人網站', '密集課程週次', '上課星期',\n",
      "       '上課節次', '上課地點', '加簽方式', '修課總人數', '本校人數', '外校人數', '外系人數', '領域專長代碼',\n",
      "       '領域專長名稱', '為英語授課', 'NTU COOL', '核心能力與課程規劃關聯圖', '課程與基本素養關聯圖', '下載課程大綱檔案',\n",
      "       '課程備註', '課程概述', '課程目標', '課程要求', '預計課後學習時數', 'OfficeHour需預約',\n",
      "       'OfficeHour備註', 'OfficeHour星期', 'OfficeHour開始時間', 'OfficeHour結束時間',\n",
      "       '指定閱讀', '參考書目'],\n",
      "      dtype='object')\n"
     ]
    }
   ],
   "source": [
    "print(course.columns)"
   ]
  },
  {
   "cell_type": "code",
   "execution_count": 189,
   "id": "26662715",
   "metadata": {},
   "outputs": [
    {
     "name": "stdout",
     "output_type": "stream",
     "text": [
      "['文學院' '共同教育中心' None '理學院' '生命科學院' '工學院' '法律學院' '生物資源暨農學院' '醫學院' '管理學院'\n",
      " '電機資訊學院' '學程' '社會科學院' '公共衛生學院' '創新設計學院' '重點科技研究學院' '進修推廣學院' 'default']\n"
     ]
    }
   ],
   "source": [
    "# print all  所屬學院\n",
    "print(course['所屬學院'].unique())"
   ]
  },
  {
   "cell_type": "code",
   "execution_count": 191,
   "id": "be38830f",
   "metadata": {},
   "outputs": [
    {
     "name": "stdout",
     "output_type": "stream",
     "text": [
      "['中國文學系' '日本語文學系' '外國語文學系' '共同教育組' None '應用數學科學研究所' '基因體與系統生物學學位學程' '物理學系'\n",
      " '地質科學系' '土木工程學系' '法律學系' '生物環境系統工程學系' '藥學系' '財務金融學系' '環境工程學研究所'\n",
      " '華語教學碩士學位學程' '醫學檢驗暨生物技術學系' '物理治療學系' '農業經濟學系' '臨床醫學研究所' '植物病理與微生物學系'\n",
      " '海洋研究所' '歷史學系' '電機工程學系' '化學工程學系' '圖書資訊學系' '大氣科學系' '生物機電工程學系' '中等學校教育學程'\n",
      " '工程科學及海洋工程學系' '天文物理研究所' '植物醫學碩士學位學程' '園藝暨景觀學系' '政治學系' '化學系' '資訊工程學系'\n",
      " '機械工程學系' '工商管理學系' '哲學系' '森林環境暨資源學系' '昆蟲學系' '翻譯碩士學位學程' '臨床牙醫學研究所'\n",
      " '生物科技研究所' '戲劇學系' '商學研究所' '臨床藥學研究所' '資訊管理學系' '數學系' '國際企業學系' '應用力學研究所'\n",
      " '生態學與演化生物學研究所' '國際三校農業生技與健康醫療碩士學位學程' '藝術史研究所' '臨床動物醫學研究所' '經濟學系'\n",
      " '創業創新管理碩士在職專班' '免疫學研究所' '光電工程學研究所' '腫瘤醫學研究所' '分子醫學研究所' '職能治療學系'\n",
      " '動物科學技術學系' '生理學研究所' '社會工作學系' '地理環境資源學系' '公共衛生學系' '漁業科學研究所' '生化科學研究所'\n",
      " '人類學系' '電子工程學研究所' '心理學系' '全球衛生碩士學位學程' '管理學院企業管理碩士專班(GMBA)' '生醫電子與資訊學研究所'\n",
      " '材料科學與工程學系' '農業化學系' '生物多樣性國際碩士學位學程' '電信工程學研究所' '應用物理學研究所' '會計學系' '醫學工程學系'\n",
      " '分子暨比較病理生物學研究所' '醫療器材與醫學影像研究所' '統計與數據科學研究所' '國際體育運動事務學士學位學程' '建築與城鄉研究所'\n",
      " '微生物學研究所' '科際整合法律學研究所' '音樂學研究所' '護理學系' '牙醫學系' '流行病學與預防醫學研究所'\n",
      " '資訊網路與多媒體研究所' '食品科技研究所' '生化科技學系' '創新設計學院' '創新領域學士學位學程' '國家發展研究所'\n",
      " '公共衛生碩士學位學程' '學士後護理學系' '生命科學系' '農藝學系' '病理學研究所' '獸醫學系' '文學院'\n",
      " '智慧工程科技全英語學士學位學程' '新聞研究所' '通識教育組' '分子與細胞生物學研究所' '藥理學研究所' '毒理學研究所' '社會學系'\n",
      " '腦與心智科學研究所' '資料科學博士學位學程' '工業工程學研究所' '公共事務研究所' '環境與職業健康科學研究所'\n",
      " '運動設施與健康管理碩士學位學程' '語言學研究所' '生物產業傳播暨發展學系' '基因體暨蛋白體醫學研究所' '醫學系'\n",
      " '奈米工程與科學碩士學位學程' '防災減害與韌性碩士學位學程' '口腔生物科學研究所' '生物科技與食品營養學士學位學程' '植物科學研究所'\n",
      " '事業經營碩士在職學位學程' '生物化學暨分子生物學研究所' '高階管理碩士專班(EMBA)' '健康政策與管理研究所' '統計碩士學位學程'\n",
      " '臺灣文學研究所' '高分子科學與工程學研究所' '創意創業學程' '元件材料與異質整合碩士學位學程' '生物科技管理碩士在職學位學程'\n",
      " '外語教學暨資源中心' '解剖學暨細胞生物學研究所' '全球衛生博士學位學程' '健康行為與社區科學研究所'\n",
      " '氣候變遷與永續發展國際博士學位學程' '地球系統科學國際研究生博士學位學程' '精準健康博士學位學程' '事業經營法務碩士在職學位學程'\n",
      " '奈米工程與科學博士學位學程' '永續化學科技國際研究生博士學位學程' '積體電路設計與自動化博士學位學程' '管理學院'\n",
      " '全球農業科技與基因體科學碩士學位學程' '氣候變遷與永續發展國際學位學程']\n"
     ]
    }
   ],
   "source": [
    "# print all 所屬系所\n",
    "print(course['所屬系所'].unique())"
   ]
  },
  {
   "cell_type": "code",
   "execution_count": 176,
   "id": "7e39b1f1",
   "metadata": {},
   "outputs": [
    {
     "name": "stdout",
     "output_type": "stream",
     "text": [
      "(83547, 51)\n"
     ]
    }
   ],
   "source": [
    "# print the szize of the data\n",
    "print(course.shape)"
   ]
  },
  {
   "cell_type": "code",
   "execution_count": 177,
   "id": "08ed83ab",
   "metadata": {},
   "outputs": [],
   "source": [
    "#  filter 開課學期 = 113-1\n",
    "course = course[course['開課學期'] == '113-1']\n"
   ]
  },
  {
   "cell_type": "code",
   "execution_count": 178,
   "id": "5e8958d5",
   "metadata": {},
   "outputs": [
    {
     "name": "stdout",
     "output_type": "stream",
     "text": [
      "(17343, 51)\n"
     ]
    }
   ],
   "source": [
    "print(course.shape)"
   ]
  },
  {
   "cell_type": "code",
   "execution_count": 179,
   "id": "a67da680",
   "metadata": {},
   "outputs": [],
   "source": [
    "# 只保留\n",
    "# \"課程名稱\"\n",
    "# \"課程流水號\"\n",
    "# \"所屬系所\"\n",
    "# \"授課教師\"\n",
    "# \"上課星期\"\n",
    "# \"上課節次\"\n",
    "# \"課程概述\"\n",
    "# \"課程目標\"\n",
    "# \"課程要求\"\n",
    "# 學分\n",
    "# 所屬學院\n",
    "# 上課地點\n",
    "# 欄位\n",
    "\n",
    "course = course[[\"課程名稱\", \"課程流水號\", \"所屬系所\", \"授課教師\", \"上課星期\", \"上課節次\", \"課程概述\", \"課程目標\", \"課程要求\", \"學分\", \"所屬學院\", \"上課地點\", \"通識領域\"]]"
   ]
  },
  {
   "cell_type": "code",
   "execution_count": 180,
   "id": "d8b32f02",
   "metadata": {},
   "outputs": [
    {
     "name": "stdout",
     "output_type": "stream",
     "text": [
      "(17343, 13)\n"
     ]
    }
   ],
   "source": [
    "print(course.shape)"
   ]
  },
  {
   "cell_type": "code",
   "execution_count": 181,
   "id": "54305737",
   "metadata": {},
   "outputs": [],
   "source": [
    "# if \"課程名稱\" contain \"專題討論\"， drop the row\n",
    "course = course[~course[\"課程名稱\"].str.contains(\"專題\")]"
   ]
  },
  {
   "cell_type": "code",
   "execution_count": 182,
   "id": "f5834a34",
   "metadata": {},
   "outputs": [
    {
     "name": "stdout",
     "output_type": "stream",
     "text": [
      "(12556, 13)\n"
     ]
    }
   ],
   "source": [
    "print(course.shape)"
   ]
  },
  {
   "cell_type": "code",
   "execution_count": 183,
   "id": "44a91601",
   "metadata": {},
   "outputs": [],
   "source": [
    "# if \"課程概述\" or \"課程目標\" or \"課程要求\" is empty, remove the row\n",
    "course = course.dropna(subset=[\"課程概述\", \"課程目標\", \"課程要求\"])"
   ]
  },
  {
   "cell_type": "code",
   "execution_count": 184,
   "id": "a46307cb",
   "metadata": {},
   "outputs": [],
   "source": [
    "course['上課節次'] = course['上課節次'].apply(lambda x: list(filter(str.isalnum, str(x).upper())))"
   ]
  },
  {
   "cell_type": "code",
   "execution_count": 185,
   "id": "52f3dcee",
   "metadata": {},
   "outputs": [],
   "source": [
    "bool_check = [0,0,0,0,0,0,0,0]\n",
    "\n",
    "for idx, c in course.iterrows():\n",
    "    if c['通識領域'] is None:\n",
    "        continue\n",
    "    \n",
    "    # Remove braces if present and split by comma\n",
    "    domains = c['通識領域'].strip(\"{}\").split(\",\")\n",
    "    domains = [d.strip() for d in domains]  # clean up whitespace if any\n",
    "    \n",
    "    # Reset bool_check for this row\n",
    "    bool_check = [0]*8\n",
    "    \n",
    "    # Check which A-fields are present\n",
    "    for i in range(8):\n",
    "        if f'A{i+1}' in domains:\n",
    "            bool_check[i] = 1\n",
    "    \n",
    "    # Construct the filtered list\n",
    "    filtered = [f'A{i+1}' for i in range(8) if bool_check[i] == 1]\n",
    "    \n",
    "    # Assign the processed list back to the DataFrame\n",
    "    course.at[idx, '通識領域'] = filtered\n",
    "\n"
   ]
  },
  {
   "cell_type": "code",
   "execution_count": 186,
   "id": "34cd02ae",
   "metadata": {},
   "outputs": [],
   "source": [
    "# for _, c in course.iterrows():\n",
    "#     # if c['通識領域'] conatins >= 2 elements, print the row\n",
    "#     if len(c['通識領域']) >= 2:\n",
    "#         print(c['通識領域'])"
   ]
  },
  {
   "cell_type": "code",
   "execution_count": 187,
   "id": "cd1516b8",
   "metadata": {},
   "outputs": [
    {
     "name": "stdout",
     "output_type": "stream",
     "text": [
      "(8107, 13)\n"
     ]
    }
   ],
   "source": [
    "# see how many rows left\n",
    "print(course.shape)"
   ]
  },
  {
   "cell_type": "code",
   "execution_count": 188,
   "id": "5801a141",
   "metadata": {},
   "outputs": [],
   "source": [
    "# save the data to a csv file\n",
    "course.to_csv('course-v1.csv', index=False)"
   ]
  },
  {
   "cell_type": "markdown",
   "id": "b9a606b4",
   "metadata": {},
   "source": [
    "---\n",
    "\n",
    "##### how to embedding data\n",
    "- only 課程概述 + 課程名稱?\n",
    "- 還是要加課程上課日期, 課程目標, etc\n",
    "\n",
    "\n",
    "##### multi label firtering\n",
    "- 我要找文字探勘和 sentence embedding 相關的課程， \"而且想要禮拜三早上或是禮拜五的\"\n",
    "- 前面可以用 RAG + LLM 處理，後面那部分如何？\n",
    "\n",
    "##### \n",
    "'課程名稱', '課程概述', '課程目標', '課程要求' 加起來超過 512 個 token 怎麼辦？\n",
    "\n",
    "- 叫 LLM 抓重點？\n",
    "- ~~休學~~\n",
    "- 把「該門課程依照字數限制拆成兩個 ( or 多個 ) item」，如有 1700 token 的話，拆成四個 item ？"
   ]
  }
 ],
 "metadata": {
  "kernelspec": {
   "display_name": "base",
   "language": "python",
   "name": "python3"
  },
  "language_info": {
   "codemirror_mode": {
    "name": "ipython",
    "version": 3
   },
   "file_extension": ".py",
   "mimetype": "text/x-python",
   "name": "python",
   "nbconvert_exporter": "python",
   "pygments_lexer": "ipython3",
   "version": "3.12.4"
  }
 },
 "nbformat": 4,
 "nbformat_minor": 5
}
